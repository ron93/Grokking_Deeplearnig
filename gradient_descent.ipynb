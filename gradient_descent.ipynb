{
 "cells": [
  {
   "cell_type": "markdown",
   "metadata": {},
   "source": [
    "# Gradient descent with multiple inputs"
   ]
  },
  {
   "cell_type": "code",
   "execution_count": null,
   "metadata": {},
   "outputs": [],
   "source": [
    "\n",
    "\n",
    "\n",
    "def weight_sum(a,b):\n",
    "    assert(len(a) == len(b))\n",
    "    output = 0\n",
    "    for i in range(a):\n",
    "        output +=(a[i] * b[i])\n",
    "        return output\n",
    "    \n",
    "    \n",
    "#weights    \n",
    "weights = [0.1, 0.2, -.1]\n",
    "\n",
    "    \n",
    "def neural_network(input, weights):\n",
    "    prediction = weight_sum(input, weights)\n",
    "    return prediction\n",
    "\n",
    "#data inputs\n",
    "toes = [8.5 ,9.6, 9.9, 9.0]\n",
    "wlrec = [0.65, 0.8, 0.8, 0.9]\n",
    "nfans = [1.2, 1.3, 0.5, 1.0]\n",
    "\n",
    "win_or_loss-binary = [1, 1, 0, 1]\n",
    "\n",
    "true = win_or_loss_binary[0]\n",
    "\n",
    "input = [toes[0], wlrec[0], nfans[0]] \n",
    "\n",
    "prediction = neural_network(input, weights)\n",
    "error = (prediction - true)** 2\n",
    "delta = prediction - true\n",
    "#calculating weight_delta \n",
    "def ele_mul(number, vector):\n",
    "    output = [0, 0, 0]\n",
    "    assert(len(output) == len(vector))\n",
    "    \n",
    "    for i in range(vector):\n",
    "        output[i] =number * vector[i]\n",
    "        return output\n",
    "    \n",
    "input = [toes[0],wlrec[0],nfans[0]]\n",
    "\n",
    "prediction = neural_network(input, weight)"
   ]
  }
 ],
 "metadata": {
  "kernelspec": {
   "display_name": "Python 3",
   "language": "python",
   "name": "python3"
  },
  "language_info": {
   "codemirror_mode": {
    "name": "ipython",
    "version": 3
   },
   "file_extension": ".py",
   "mimetype": "text/x-python",
   "name": "python",
   "nbconvert_exporter": "python",
   "pygments_lexer": "ipython3",
   "version": "3.6.9"
  }
 },
 "nbformat": 4,
 "nbformat_minor": 4
}
