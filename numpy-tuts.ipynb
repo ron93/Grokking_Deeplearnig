{
 "cells": [
  {
   "cell_type": "code",
   "execution_count": 1,
   "metadata": {},
   "outputs": [],
   "source": [
    "import numpy  as np"
   ]
  },
  {
   "cell_type": "markdown",
   "metadata": {},
   "source": [
    "### input data"
   ]
  },
  {
   "cell_type": "code",
   "execution_count": 2,
   "metadata": {},
   "outputs": [],
   "source": [
    "a = np.array([0, 1, 2, 3]) #vector\n",
    "\n",
    "b = np.array([4,5,6,7])#vector\n",
    "\n",
    "c = np.array([[0,1,2,3], #matrix\n",
    "             [4,5,6,7]]) \n",
    "\n",
    "d = np.array((2,4)) # 2*4 matrix of zeros\n",
    "\n",
    "e = np.random.rand(2,5) #Random 2*5 matrix"
   ]
  },
  {
   "cell_type": "code",
   "execution_count": 3,
   "metadata": {},
   "outputs": [
    {
     "name": "stdout",
     "output_type": "stream",
     "text": [
      "a   [0 1 2 3]\n",
      "b   [4 5 6 7]\n",
      "c   [[0 1 2 3]\n",
      " [4 5 6 7]]\n",
      "d   [2 4]\n",
      "e   [[0.08646617 0.08705897 0.7172331  0.24529744 0.12227804]\n",
      " [0.92292551 0.28807875 0.85463186 0.63182603 0.64179518]]\n"
     ]
    }
   ],
   "source": [
    "print(\"a  \",a )\n",
    "print(\"b  \",b)\n",
    "print(\"c  \",c)\n",
    "print(\"d  \",d)\n",
    "\n",
    "print(\"e  \",e)"
   ]
  },
  {
   "cell_type": "markdown",
   "metadata": {},
   "source": [
    "### operation on input"
   ]
  },
  {
   "cell_type": "code",
   "execution_count": 4,
   "metadata": {},
   "outputs": [
    {
     "name": "stdout",
     "output_type": "stream",
     "text": [
      "a * 0.1 = [0.  0.1 0.2 0.3]\n",
      "a * 0.2 = [0.  0.2 0.4 0.6]\n",
      "a * b = [ 0  5 12 21]\n",
      "a * b * 0.2= [0.  1.  2.4 4.2]\n",
      "a * c = [[ 0  1  4  9]\n",
      " [ 0  5 12 21]]\n"
     ]
    }
   ],
   "source": [
    "print(\"a * 0.1 =\",a * 0.1)\n",
    "print(\"a * 0.2 =\",a * 0.2)\n",
    "print(\"a * b =\",a * b)\n",
    "print(\"a * b * 0.2=\",a * b * 0.2)\n",
    "print(\"a * c =\",a * c)\n",
    "#print(\"a * e =\",a * e)#produces a ValueError: operands could not be broadcast together with shapes (4,) (2,5) "
   ]
  },
  {
   "cell_type": "markdown",
   "metadata": {},
   "source": [
    "### matrix multiplication examples "
   ]
  },
  {
   "cell_type": "code",
   "execution_count": 5,
   "metadata": {},
   "outputs": [],
   "source": [
    "#inputs ()\n",
    "a = np.zeros((1,4))\n",
    "b = np.zeros((4,3))"
   ]
  },
  {
   "cell_type": "code",
   "execution_count": 6,
   "metadata": {},
   "outputs": [],
   "source": [
    "#mul operations (the number of rows and columns must lineup)\n",
    "c = a.dot(b) #vector of length 4\n"
   ]
  },
  {
   "cell_type": "code",
   "execution_count": 7,
   "metadata": {},
   "outputs": [
    {
     "name": "stdout",
     "output_type": "stream",
     "text": [
      "(1, 3)\n"
     ]
    }
   ],
   "source": [
    "print(c.shape) #matrix of 4*3"
   ]
  },
  {
   "cell_type": "code",
   "execution_count": 8,
   "metadata": {},
   "outputs": [],
   "source": [
    "                    # R * C\n",
    "e = np.zeros((2,1)) # 2 * 1 matrix\n",
    "f = np.zeros((1,3)) # 1*3 matrix"
   ]
  },
  {
   "cell_type": "markdown",
   "metadata": {},
   "source": [
    "### mul operation"
   ]
  },
  {
   "cell_type": "code",
   "execution_count": 9,
   "metadata": {},
   "outputs": [],
   "source": [
    "g = e.dot(f)\n"
   ]
  },
  {
   "cell_type": "code",
   "execution_count": 10,
   "metadata": {},
   "outputs": [
    {
     "name": "stdout",
     "output_type": "stream",
     "text": [
      "(2, 3)\n"
     ]
    }
   ],
   "source": [
    "print(g.shape) #2 * 3 matrix"
   ]
  },
  {
   "cell_type": "code",
   "execution_count": 11,
   "metadata": {},
   "outputs": [],
   "source": [
    "h = np.zeros((5,4)).T #5*4 matrix --throws an error when mul by i ; T flips the Rows and columns of a matrix(to 6*5 marix)\n",
    "i = np.zeros((5,6)) #5*6 matrix"
   ]
  },
  {
   "cell_type": "code",
   "execution_count": 12,
   "metadata": {},
   "outputs": [
    {
     "name": "stdout",
     "output_type": "stream",
     "text": [
      "(4, 6)\n"
     ]
    }
   ],
   "source": [
    "j = h.dot(i)\n",
    "print(j.shape) # output: 4*6 matrix"
   ]
  },
  {
   "cell_type": "markdown",
   "metadata": {},
   "source": []
  }
 ],
 "metadata": {
  "kernelspec": {
   "display_name": "Python 3",
   "language": "python",
   "name": "python3"
  },
  "language_info": {
   "codemirror_mode": {
    "name": "ipython",
    "version": 3
   },
   "file_extension": ".py",
   "mimetype": "text/x-python",
   "name": "python",
   "nbconvert_exporter": "python",
   "pygments_lexer": "ipython3",
   "version": "3.6.9"
  }
 },
 "nbformat": 4,
 "nbformat_minor": 4
}
