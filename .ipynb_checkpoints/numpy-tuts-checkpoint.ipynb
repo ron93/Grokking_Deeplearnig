{
 "cells": [
  {
   "cell_type": "code",
   "execution_count": 17,
   "metadata": {},
   "outputs": [],
   "source": [
    "import numpy  as np"
   ]
  },
  {
   "cell_type": "markdown",
   "metadata": {},
   "source": [
    "### input data"
   ]
  },
  {
   "cell_type": "code",
   "execution_count": 18,
   "metadata": {},
   "outputs": [],
   "source": [
    "a = np.array([0, 1, 2, 3]) #vector\n",
    "\n",
    "b = np.array([4,5,6,7])#vector\n",
    "\n",
    "c = np.array([[0,1,2,3], #matrix\n",
    "             [4,5,6,7]]) \n",
    "\n",
    "d = np.array((2,4)) # 2*4 matrix of zeros\n",
    "\n",
    "e = np.random.rand(2,5) #Random 2*5 matrix"
   ]
  },
  {
   "cell_type": "code",
   "execution_count": 19,
   "metadata": {},
   "outputs": [
    {
     "name": "stdout",
     "output_type": "stream",
     "text": [
      "a   [0 1 2 3]\n",
      "b   [4 5 6 7]\n",
      "c   [[0 1 2 3]\n",
      " [4 5 6 7]]\n",
      "d   [2 4]\n",
      "e   [[0.72707508 0.29228095 0.00905691 0.36206202 0.96808416]\n",
      " [0.23456881 0.3293734  0.7116039  0.97751257 0.69683139]]\n"
     ]
    }
   ],
   "source": [
    "print(\"a  \",a )\n",
    "print(\"b  \",b)\n",
    "print(\"c  \",c)\n",
    "print(\"d  \",d)\n",
    "\n",
    "print(\"e  \",e)"
   ]
  },
  {
   "cell_type": "markdown",
   "metadata": {},
   "source": [
    "### operation on input"
   ]
  },
  {
   "cell_type": "code",
   "execution_count": 22,
   "metadata": {},
   "outputs": [
    {
     "name": "stdout",
     "output_type": "stream",
     "text": [
      "a * 0.1 = [0.  0.1 0.2 0.3]\n",
      "a * 0.2 = [0.  0.2 0.4 0.6]\n",
      "a * b = [ 0  5 12 21]\n",
      "a * b * 0.2= [0.  1.  2.4 4.2]\n",
      "a * c = [[ 0  1  4  9]\n",
      " [ 0  5 12 21]]\n"
     ]
    }
   ],
   "source": [
    "print(\"a * 0.1 =\",a * 0.1)\n",
    "print(\"a * 0.2 =\",a * 0.2)\n",
    "print(\"a * b =\",a * b)\n",
    "print(\"a * b * 0.2=\",a * b * 0.2)\n",
    "print(\"a * c =\",a * c)\n",
    "#print(\"a * e =\",a * e)#produces a ValueError: operands could not be broadcast together with shapes (4,) (2,5) "
   ]
  },
  {
   "cell_type": "markdown",
   "metadata": {},
   "source": [
    "### matrix multiplication examples "
   ]
  },
  {
   "cell_type": "code",
   "execution_count": 24,
   "metadata": {},
   "outputs": [],
   "source": [
    "#inputs ()\n",
    "a = np.zeros((1,4))\n",
    "b = np.zeros((4,3))"
   ]
  },
  {
   "cell_type": "code",
   "execution_count": 25,
   "metadata": {},
   "outputs": [],
   "source": [
    "#mul operations (the number of rows and columns must lineup)\n",
    "c = a.dot(b) #vector of length 4\n"
   ]
  },
  {
   "cell_type": "code",
   "execution_count": 26,
   "metadata": {},
   "outputs": [
    {
     "name": "stdout",
     "output_type": "stream",
     "text": [
      "(1, 3)\n"
     ]
    }
   ],
   "source": [
    "print(c.shape) #matrix of 4*3"
   ]
  },
  {
   "cell_type": "code",
   "execution_count": 30,
   "metadata": {},
   "outputs": [],
   "source": [
    "                    # R * C\n",
    "e = np.zeros((2,1)) # 2 * 1 matrix\n",
    "f = np.zeros((1,3)) # 1*3 matrix"
   ]
  },
  {
   "cell_type": "markdown",
   "metadata": {},
   "source": [
    "### mul operation"
   ]
  },
  {
   "cell_type": "code",
   "execution_count": 31,
   "metadata": {},
   "outputs": [],
   "source": [
    "g = e.dot(f)\n"
   ]
  },
  {
   "cell_type": "code",
   "execution_count": 33,
   "metadata": {},
   "outputs": [
    {
     "name": "stdout",
     "output_type": "stream",
     "text": [
      "(2, 3)\n"
     ]
    }
   ],
   "source": [
    "print(g.shape) #2 * 3 matrix"
   ]
  },
  {
   "cell_type": "code",
   "execution_count": 36,
   "metadata": {},
   "outputs": [],
   "source": [
    "h = np.zeros((5,4)).T #throws an error when mul by i ; T flips the Rows and columns of a matrix\n",
    "i = np.zeros((5,6))"
   ]
  },
  {
   "cell_type": "code",
   "execution_count": 37,
   "metadata": {},
   "outputs": [
    {
     "ename": "ValueError",
     "evalue": "shapes (5,4) and (5,6) not aligned: 4 (dim 1) != 5 (dim 0)",
     "output_type": "error",
     "traceback": [
      "\u001b[0;31m---------------------------------------------------------------------------\u001b[0m",
      "\u001b[0;31mValueError\u001b[0m                                Traceback (most recent call last)",
      "\u001b[0;32m<ipython-input-37-2bce06391fdc>\u001b[0m in \u001b[0;36m<module>\u001b[0;34m\u001b[0m\n\u001b[0;32m----> 1\u001b[0;31m \u001b[0mj\u001b[0m \u001b[0;34m=\u001b[0m \u001b[0mh\u001b[0m\u001b[0;34m.\u001b[0m\u001b[0mdot\u001b[0m\u001b[0;34m(\u001b[0m\u001b[0mi\u001b[0m\u001b[0;34m)\u001b[0m\u001b[0;34m\u001b[0m\u001b[0;34m\u001b[0m\u001b[0m\n\u001b[0m",
      "\u001b[0;31mValueError\u001b[0m: shapes (5,4) and (5,6) not aligned: 4 (dim 1) != 5 (dim 0)"
     ]
    }
   ],
   "source": [
    "j = h.dot(i)"
   ]
  },
  {
   "cell_type": "code",
   "execution_count": null,
   "metadata": {},
   "outputs": [],
   "source": []
  },
  {
   "cell_type": "code",
   "execution_count": null,
   "metadata": {},
   "outputs": [],
   "source": []
  },
  {
   "cell_type": "code",
   "execution_count": null,
   "metadata": {},
   "outputs": [],
   "source": []
  }
 ],
 "metadata": {
  "kernelspec": {
   "display_name": "Python 3",
   "language": "python",
   "name": "python3"
  },
  "language_info": {
   "codemirror_mode": {
    "name": "ipython",
    "version": 3
   },
   "file_extension": ".py",
   "mimetype": "text/x-python",
   "name": "python",
   "nbconvert_exporter": "python",
   "pygments_lexer": "ipython3",
   "version": "3.6.9"
  }
 },
 "nbformat": 4,
 "nbformat_minor": 4
}
